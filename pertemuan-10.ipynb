{
 "cells": [
  {
   "cell_type": "markdown",
   "metadata": {},
   "source": [
    "## logika dasar dalam python"
   ]
  },
  {
   "cell_type": "markdown",
   "metadata": {},
   "source": [
    "*algoritma*\n",
    "_algoritma_\n",
    "__algoritma__\n",
    "**algoritma**"
   ]
  },
  {
   "cell_type": "code",
   "execution_count": 122,
   "metadata": {},
   "outputs": [
    {
     "name": "stdout",
     "output_type": "stream",
     "text": [
      "Hai dunia!\n"
     ]
    }
   ],
   "source": [
    "# eksekusi sintaks python\n",
    "\n",
    "print(\"Hai dunia!\")"
   ]
  },
  {
   "cell_type": "code",
   "execution_count": 123,
   "metadata": {},
   "outputs": [
    {
     "name": "stdout",
     "output_type": "stream",
     "text": [
      "lima lebih dari dua\n"
     ]
    }
   ],
   "source": [
    "# indensasi\n",
    "\n",
    "if 5 > 2:\n",
    "    print(\"lima lebih dari dua\")"
   ]
  },
  {
   "cell_type": "code",
   "execution_count": 124,
   "metadata": {},
   "outputs": [
    {
     "name": "stdout",
     "output_type": "stream",
     "text": [
      "lima lebih dari dua\n",
      "lima lebih dari dua\n"
     ]
    }
   ],
   "source": [
    "if 5 > 2:\n",
    "    print(\"lima lebih dari dua\")\n",
    "if 5 > 2:\n",
    "        print(\"lima lebih dari dua\")"
   ]
  },
  {
   "cell_type": "code",
   "execution_count": 125,
   "metadata": {},
   "outputs": [
    {
     "name": "stdout",
     "output_type": "stream",
     "text": [
      "lima lebih dari dua\n",
      "lima lebih dari dua\n"
     ]
    }
   ],
   "source": [
    "if 5 > 2:\n",
    "    print(\"lima lebih dari dua\")\n",
    "    print(\"lima lebih dari dua\")"
   ]
  },
  {
   "cell_type": "code",
   "execution_count": 126,
   "metadata": {},
   "outputs": [
    {
     "ename": "IndentationError",
     "evalue": "unexpected indent (1587542765.py, line 3)",
     "output_type": "error",
     "traceback": [
      "\u001b[1;36m  Cell \u001b[1;32mIn[126], line 3\u001b[1;36m\u001b[0m\n\u001b[1;33m    print(\"lima lebih dari dua\")\u001b[0m\n\u001b[1;37m    ^\u001b[0m\n\u001b[1;31mIndentationError\u001b[0m\u001b[1;31m:\u001b[0m unexpected indent\n"
     ]
    }
   ],
   "source": [
    "if 5 > 2:\n",
    "    print(\"lima lebih dari dua\")\n",
    "        print(\"lima lebih dari dua\")"
   ]
  },
  {
   "cell_type": "code",
   "execution_count": 10,
   "metadata": {},
   "outputs": [
    {
     "data": {
      "text/plain": [
       "'hai, dunia!'"
      ]
     },
     "execution_count": 10,
     "metadata": {},
     "output_type": "execute_result"
    }
   ],
   "source": [
    "# variabel\n",
    "\n",
    "x = 5 \n",
    "y = \"hai, dunia!\"\n",
    "\n",
    "x\n",
    "y"
   ]
  },
  {
   "cell_type": "code",
   "execution_count": 11,
   "metadata": {},
   "outputs": [
    {
     "data": {
      "text/plain": [
       "5"
      ]
     },
     "execution_count": 11,
     "metadata": {},
     "output_type": "execute_result"
    }
   ],
   "source": [
    "x = 5 \n",
    "y = \"hai, dunia!\"\n",
    "\n",
    "y\n",
    "x"
   ]
  },
  {
   "cell_type": "code",
   "execution_count": 12,
   "metadata": {},
   "outputs": [
    {
     "name": "stdout",
     "output_type": "stream",
     "text": [
      "5\n",
      "hai, dunia!\n"
     ]
    }
   ],
   "source": [
    "print(x)\n",
    "print(y)"
   ]
  },
  {
   "cell_type": "code",
   "execution_count": 13,
   "metadata": {},
   "outputs": [
    {
     "name": "stdout",
     "output_type": "stream",
     "text": [
      "hello world\n"
     ]
    }
   ],
   "source": [
    "# comments\n",
    "print(\"hello world\")"
   ]
  },
  {
   "cell_type": "code",
   "execution_count": 14,
   "metadata": {},
   "outputs": [
    {
     "name": "stdout",
     "output_type": "stream",
     "text": [
      "hello world\n"
     ]
    }
   ],
   "source": [
    "print(\"hello world\") # ini adalah komen"
   ]
  },
  {
   "cell_type": "code",
   "execution_count": 15,
   "metadata": {},
   "outputs": [
    {
     "name": "stdout",
     "output_type": "stream",
     "text": [
      "hai, dunia!\n"
     ]
    }
   ],
   "source": [
    "# ini adalah \n",
    "# mata kuliah\n",
    "# algoritma pemrograman\n",
    "print(y)"
   ]
  },
  {
   "cell_type": "code",
   "execution_count": 16,
   "metadata": {},
   "outputs": [
    {
     "name": "stdout",
     "output_type": "stream",
     "text": [
      "hai, dunia!\n"
     ]
    }
   ],
   "source": [
    "# ini adalah # mata kuliah # algoritma pemrograman\n",
    "print(y)"
   ]
  },
  {
   "cell_type": "code",
   "execution_count": 17,
   "metadata": {},
   "outputs": [
    {
     "name": "stdout",
     "output_type": "stream",
     "text": [
      "hai, dunia!\n"
     ]
    }
   ],
   "source": [
    "\"\"\"\n",
    "pembelajaran ini adalah algoritma pemrograman dan di hari senin kita belajar komen\n",
    "\"\"\"\n",
    "print(y)"
   ]
  },
  {
   "cell_type": "code",
   "execution_count": 18,
   "metadata": {},
   "outputs": [
    {
     "name": "stdout",
     "output_type": "stream",
     "text": [
      "4 sally 3.2\n"
     ]
    }
   ],
   "source": [
    "# variabel \n",
    "x = 4           # x adalah integrer atau int\n",
    "y = \"sally\"     # y untuk string atau str\n",
    "z = 3.2         # z merupakan float\n",
    "print(x,y,z)"
   ]
  },
  {
   "cell_type": "code",
   "execution_count": 33,
   "metadata": {},
   "outputs": [
    {
     "name": "stdout",
     "output_type": "stream",
     "text": [
      "3 3 3.0\n"
     ]
    }
   ],
   "source": [
    "#casting \n",
    "\n",
    "a = str(3)\n",
    "b = int(3)\n",
    "c = float(3)\n",
    "print(a, b, c)"
   ]
  },
  {
   "cell_type": "code",
   "execution_count": 23,
   "metadata": {},
   "outputs": [
    {
     "name": "stdout",
     "output_type": "stream",
     "text": [
      "33\n"
     ]
    }
   ],
   "source": [
    "print(a+a)"
   ]
  },
  {
   "cell_type": "code",
   "execution_count": 45,
   "metadata": {},
   "outputs": [
    {
     "name": "stdout",
     "output_type": "stream",
     "text": [
      "6\n"
     ]
    }
   ],
   "source": [
    "print(b+b)"
   ]
  },
  {
   "cell_type": "code",
   "execution_count": 46,
   "metadata": {},
   "outputs": [
    {
     "name": "stdout",
     "output_type": "stream",
     "text": [
      "6.0\n"
     ]
    }
   ],
   "source": [
    "print(c+c)"
   ]
  },
  {
   "cell_type": "code",
   "execution_count": 47,
   "metadata": {},
   "outputs": [
    {
     "name": "stdout",
     "output_type": "stream",
     "text": [
      "<class 'str'>\n",
      "<class 'int'>\n",
      "<class 'float'>\n"
     ]
    }
   ],
   "source": [
    "# melihat tipe data\n",
    "print(type(a))\n",
    "print(type(b))\n",
    "print(type(c))"
   ]
  },
  {
   "cell_type": "code",
   "execution_count": 29,
   "metadata": {},
   "outputs": [
    {
     "name": "stdout",
     "output_type": "stream",
     "text": [
      "7\n"
     ]
    }
   ],
   "source": [
    "adam = 3\n",
    "ADAM = 4\n",
    "\n",
    "print(adam + ADAM)"
   ]
  },
  {
   "cell_type": "code",
   "execution_count": 31,
   "metadata": {},
   "outputs": [],
   "source": [
    "# penggunaan string\n",
    "\n",
    "x = \"adam\"\n",
    "x = 'adam'"
   ]
  },
  {
   "cell_type": "code",
   "execution_count": 34,
   "metadata": {},
   "outputs": [
    {
     "name": "stdout",
     "output_type": "stream",
     "text": [
      "Apple\n",
      "banana\n",
      "pineapple\n"
     ]
    }
   ],
   "source": [
    "# many values ke multiple variables\n",
    "x, y, z, = \"Apple\", \"banana\", \"pineapple\"\n",
    "print(x)\n",
    "print(y)\n",
    "print(z)"
   ]
  },
  {
   "cell_type": "code",
   "execution_count": 35,
   "metadata": {},
   "outputs": [
    {
     "name": "stdout",
     "output_type": "stream",
     "text": [
      "durian\n",
      "durian\n",
      "durian\n"
     ]
    }
   ],
   "source": [
    "# ove values ke multiple variables \n",
    "x = y = z = \"durian\"\n",
    "print(x)\n",
    "print(y)\n",
    "print(z)"
   ]
  },
  {
   "cell_type": "code",
   "execution_count": 36,
   "metadata": {},
   "outputs": [
    {
     "name": "stdout",
     "output_type": "stream",
     "text": [
      "apple\n",
      "banana\n",
      "cherry\n"
     ]
    }
   ],
   "source": [
    "#unpack a collection\n",
    "#unpack a list\n",
    "\n",
    "fruits = [\"apple\", \"banana\", \"cherry\"]\n",
    "x,y,z = fruits\n",
    "print(x)\n",
    "print(y)\n",
    "print(z)"
   ]
  },
  {
   "cell_type": "code",
   "execution_count": 39,
   "metadata": {},
   "outputs": [
    {
     "name": "stdout",
     "output_type": "stream",
     "text": [
      "appleapple\n"
     ]
    }
   ],
   "source": [
    "# output variable\n",
    "x = 'apple'\n",
    "print(x+x)"
   ]
  },
  {
   "cell_type": "code",
   "execution_count": 48,
   "metadata": {},
   "outputs": [
    {
     "name": "stdout",
     "output_type": "stream",
     "text": [
      "8.0\n"
     ]
    }
   ],
   "source": [
    "x = 'apple'\n",
    "y = 5\n",
    "z = 3.0\n",
    "print(y+z)"
   ]
  },
  {
   "cell_type": "code",
   "execution_count": 50,
   "metadata": {},
   "outputs": [
    {
     "name": "stdout",
     "output_type": "stream",
     "text": [
      "saya suka melon\n",
      "sayasukamelon\n"
     ]
    }
   ],
   "source": [
    "x = 'saya'\n",
    "y = 'suka'\n",
    "z = 'melon'\n",
    "print(x,y,z)\n",
    "print(x+y+z)"
   ]
  },
  {
   "cell_type": "code",
   "execution_count": 53,
   "metadata": {},
   "outputs": [
    {
     "name": "stdout",
     "output_type": "stream",
     "text": [
      "bahasa indonesia sayabagus\n"
     ]
    }
   ],
   "source": [
    "#global variabel \n",
    "x = 'bagus'\n",
    "def myfunc() :\n",
    "    print('bahasa indonesia saya'+ x)\n",
    "\n",
    "myfunc()"
   ]
  },
  {
   "cell_type": "code",
   "execution_count": 56,
   "metadata": {},
   "outputs": [
    {
     "name": "stdout",
     "output_type": "stream",
     "text": [
      "bahasa indonesia sayakeren\n",
      "bahasa indonesia sayabagus\n"
     ]
    }
   ],
   "source": [
    "#global variabel \n",
    "x = 'bagus'\n",
    "def myfunc() :\n",
    "    x = 'keren'\n",
    "    print('bahasa indonesia saya'+ x)\n",
    "\n",
    "myfunc()\n",
    "print('bahasa indonesia saya'+x)"
   ]
  },
  {
   "cell_type": "code",
   "execution_count": 59,
   "metadata": {},
   "outputs": [
    {
     "name": "stdout",
     "output_type": "stream",
     "text": [
      "teman saya akan nikah\n"
     ]
    }
   ],
   "source": [
    "#global variabel \n",
    "y = 'nikah'\n",
    "def myfunc() :\n",
    "    print('teman saya akan', y)\n",
    "\n",
    "myfunc()"
   ]
  },
  {
   "cell_type": "code",
   "execution_count": 62,
   "metadata": {},
   "outputs": [
    {
     "name": "stdout",
     "output_type": "stream",
     "text": [
      "kamu keren\n"
     ]
    }
   ],
   "source": [
    "#global keyword\n",
    "def myfunc():\n",
    "    global x\n",
    "    x= 'keren'\n",
    "myfunc()\n",
    "\n",
    "print('kamu', x)"
   ]
  },
  {
   "cell_type": "code",
   "execution_count": 63,
   "metadata": {},
   "outputs": [
    {
     "name": "stdout",
     "output_type": "stream",
     "text": [
      "kamu asik sekali\n"
     ]
    }
   ],
   "source": [
    "x = 'keren'\n",
    "def myfunc():\n",
    "    global x\n",
    "    x= 'asik sekalix'\n",
    "myfunc()\n",
    "\n",
    "print('kamu', x)"
   ]
  },
  {
   "cell_type": "code",
   "execution_count": 69,
   "metadata": {},
   "outputs": [
    {
     "name": "stdout",
     "output_type": "stream",
     "text": [
      "5 <class 'int'>\n",
      "hello <class 'str'>\n",
      "2.3 <class 'float'>\n",
      "1j <class 'complex'>\n"
     ]
    }
   ],
   "source": [
    "a=5\n",
    "print(a, type(a))\n",
    "\n",
    "b = 'hello'\n",
    "print(b, type(b))\n",
    "\n",
    "c = 2.3\n",
    "print(c, type(c))\n",
    "\n",
    "d = 1j\n",
    "print(d, type(d))"
   ]
  },
  {
   "cell_type": "code",
   "execution_count": 70,
   "metadata": {},
   "outputs": [
    {
     "name": "stdout",
     "output_type": "stream",
     "text": [
      "['apel', 'pisang', 'ceri'] <class 'list'>\n",
      "('apel', 'pisang', 'ceri') <class 'tuple'>\n",
      "range(0, 6) <class 'range'>\n",
      "{'name': 'john', 'age': 21} <class 'dict'>\n"
     ]
    }
   ],
   "source": [
    "e = ['apel', 'pisang', 'ceri']\n",
    "print(e, type(e))\n",
    "\n",
    "f = ('apel', 'pisang', 'ceri')\n",
    "print(f, type(f))\n",
    "\n",
    "g = range(6)\n",
    "print(g, type(g))\n",
    "\n",
    "h = {'name': 'john', 'age': 21}\n",
    "print(h, type(h))"
   ]
  },
  {
   "cell_type": "code",
   "execution_count": 74,
   "metadata": {},
   "outputs": [
    {
     "name": "stdout",
     "output_type": "stream",
     "text": [
      "frozenset({'banana', 'apple', 'cherry'}) <class 'frozenset'>\n",
      "True <class 'bool'>\n",
      "b'hai' <class 'bytes'>\n"
     ]
    }
   ],
   "source": [
    "i = frozenset({'apple', 'banana', 'cherry'})\n",
    "print(i, type(i))\n",
    "\n",
    "j = True\n",
    "print(j, type(j))\n",
    "\n",
    "k = b\"hai\"\n",
    "print(k, type(k))"
   ]
  },
  {
   "cell_type": "code",
   "execution_count": 78,
   "metadata": {},
   "outputs": [
    {
     "name": "stdout",
     "output_type": "stream",
     "text": [
      "bytearray(b'\\x00\\x00\\x00\\x00\\x00') <class 'bytearray'>\n",
      "<memory at 0x000002EB09C7CD00> <class 'memoryview'>\n",
      "None <class 'NoneType'>\n"
     ]
    }
   ],
   "source": [
    "l = bytearray(5)\n",
    "print(l, type(l))\n",
    "\n",
    "m = memoryview(bytes(5))\n",
    "print(m, type(m))\n",
    "\n",
    "n = None\n",
    "print(n, type(n))"
   ]
  },
  {
   "cell_type": "code",
   "execution_count": 81,
   "metadata": {},
   "outputs": [
    {
     "name": "stdout",
     "output_type": "stream",
     "text": [
      "-1.0 2 1j\n",
      "<class 'float'> <class 'int'> <class 'complex'>\n"
     ]
    }
   ],
   "source": [
    "# konversi tipe \n",
    "x = -1  #int\n",
    "y = 2.8 #float\n",
    "z = 1j  #complex\n",
    "\n",
    "#convert int ke float\n",
    "a = float(x)\n",
    "\n",
    "#convert float ke int\n",
    "b = int(y)\n",
    "\n",
    "#convert int ke complex\n",
    "c = complex(z)\n",
    "\n",
    "print(a,b,c)\n",
    "print(type(a), type(b), type(c))"
   ]
  },
  {
   "cell_type": "code",
   "execution_count": 97,
   "metadata": {},
   "outputs": [
    {
     "name": "stdout",
     "output_type": "stream",
     "text": [
      "19\n"
     ]
    }
   ],
   "source": [
    "# random number\n",
    "\n",
    "import random\n",
    "\n",
    "print(random.randrange(1,20))"
   ]
  },
  {
   "cell_type": "code",
   "execution_count": 139,
   "metadata": {},
   "outputs": [
    {
     "ename": "SyntaxError",
     "evalue": "invalid syntax. Perhaps you forgot a comma? (1041470627.py, line 3)",
     "output_type": "error",
     "traceback": [
      "\u001b[1;36m  Cell \u001b[1;32mIn[139], line 3\u001b[1;36m\u001b[0m\n\u001b[1;33m    print(\"oke \"bg\" \")\u001b[0m\n\u001b[1;37m          ^\u001b[0m\n\u001b[1;31mSyntaxError\u001b[0m\u001b[1;31m:\u001b[0m invalid syntax. Perhaps you forgot a comma?\n"
     ]
    }
   ],
   "source": [
    "# string\n",
    "print(\"oke bang\")\n",
    "print(\"oke \"bg\" \")\n",
    "print('oke \"bang\"')\n",
    "print(\"oke 'bg' \")\n",
    "print(\"oke \"bg\" \")"
   ]
  },
  {
   "cell_type": "code",
   "execution_count": 99,
   "metadata": {},
   "outputs": [
    {
     "name": "stdout",
     "output_type": "stream",
     "text": [
      " \n"
     ]
    }
   ],
   "source": [
    "print(\" \")"
   ]
  },
  {
   "cell_type": "code",
   "execution_count": 102,
   "metadata": {},
   "outputs": [
    {
     "name": "stdout",
     "output_type": "stream",
     "text": [
      "\n",
      "saya suka makan dengan sushi dengan saus teriyaki\n",
      "\n",
      "\n",
      "saya suka makan dengan sushi dengan saus keju\n",
      "\n"
     ]
    }
   ],
   "source": [
    "r = \"\"\"\n",
    "saya suka makan dengan sushi dengan saus teriyaki\n",
    "\"\"\"\n",
    "s = '''\n",
    "saya suka makan dengan sushi dengan saus keju\n",
    "'''\n",
    "\n",
    "print(r)\n",
    "print(s)"
   ]
  },
  {
   "cell_type": "code",
   "execution_count": 104,
   "metadata": {},
   "outputs": [
    {
     "name": "stdout",
     "output_type": "stream",
     "text": [
      "2345\n",
      ",2,3,4\n",
      "lo \n"
     ]
    }
   ],
   "source": [
    "# slicing\n",
    "a = \"123456789\"\n",
    "print(a[1:5])\n",
    "\n",
    "b = \"1,2,3,4,5,6,7,8,9\"\n",
    "print(b[1:7])\n",
    "\n",
    "c = \"hello world\"\n",
    "print(c[3:6])"
   ]
  },
  {
   "cell_type": "code",
   "execution_count": 107,
   "metadata": {},
   "outputs": [
    {
     "name": "stdout",
     "output_type": "stream",
     "text": [
      "12345\n"
     ]
    }
   ],
   "source": [
    "# slice from the start\n",
    "a = \"123456789\"\n",
    "print(a[:5])"
   ]
  },
  {
   "cell_type": "code",
   "execution_count": 110,
   "metadata": {},
   "outputs": [
    {
     "name": "stdout",
     "output_type": "stream",
     "text": [
      "456789\n"
     ]
    }
   ],
   "source": [
    "# slice from to end\n",
    "a = \"123456789\"\n",
    "print(a[3:])"
   ]
  },
  {
   "cell_type": "code",
   "execution_count": 112,
   "metadata": {},
   "outputs": [
    {
     "name": "stdout",
     "output_type": "stream",
     "text": [
      "567\n"
     ]
    }
   ],
   "source": [
    "# slice negative indexing\n",
    "a = \"123456789\"\n",
    "print(a[-5:-2])"
   ]
  },
  {
   "cell_type": "code",
   "execution_count": 121,
   "metadata": {},
   "outputs": [
    {
     "name": "stdout",
     "output_type": "stream",
     "text": [
      "HELLOW, WORLD\n",
      "hellow world\n",
      "hello world\n"
     ]
    }
   ],
   "source": [
    "#modify string\n",
    "#upper\n",
    "\n",
    "a = \"hellow, world\"\n",
    "print(a.upper())\n",
    "\n",
    "#lower\n",
    "a = \"hellow world\"\n",
    "print(a.lower())\n",
    "\n",
    "#remove whitespaces \n",
    "a = \"    hello, world    \"\n",
    "print(a.strip())"
   ]
  },
  {
   "cell_type": "code",
   "execution_count": 118,
   "metadata": {},
   "outputs": [
    {
     "name": "stdout",
     "output_type": "stream",
     "text": [
      "    Lello world    \n"
     ]
    }
   ],
   "source": [
    "# replace \n",
    "print(a.replace(\"h\", \"L\"))"
   ]
  },
  {
   "cell_type": "code",
   "execution_count": 141,
   "metadata": {},
   "outputs": [
    {
     "name": "stdout",
     "output_type": "stream",
     "text": [
      "['hai', ' guys']\n",
      "['hai, ', 'uys']\n"
     ]
    }
   ],
   "source": [
    "# split string \n",
    "a = \"hai, guys\"\n",
    "print(a.split(\",\"))\n",
    "print(a.split(\"g\"))"
   ]
  },
  {
   "cell_type": "code",
   "execution_count": 129,
   "metadata": {},
   "outputs": [
    {
     "name": "stdout",
     "output_type": "stream",
     "text": [
      "my name is wonwoo, i am 21\n"
     ]
    }
   ],
   "source": [
    "# format string atau f-string\n",
    "age = 21\n",
    "txt = f\"my name is wonwoo, i am {age}\"\n",
    "print(txt)"
   ]
  },
  {
   "cell_type": "code",
   "execution_count": 131,
   "metadata": {},
   "outputs": [
    {
     "name": "stdout",
     "output_type": "stream",
     "text": [
      "the price of nasi padang is 12 dollars\n"
     ]
    }
   ],
   "source": [
    "price = 12\n",
    "txt = f\"the price of nasi padang is {price} dollars\"\n",
    "print(txt)"
   ]
  },
  {
   "cell_type": "code",
   "execution_count": 132,
   "metadata": {},
   "outputs": [
    {
     "name": "stdout",
     "output_type": "stream",
     "text": [
      "the price of nasi padang is 12.00 dollars\n"
     ]
    }
   ],
   "source": [
    "price = 12\n",
    "txt = f\"the price of nasi padang is {price:.2f} dollars\"\n",
    "print(txt)"
   ]
  },
  {
   "cell_type": "code",
   "execution_count": 133,
   "metadata": {},
   "outputs": [
    {
     "name": "stdout",
     "output_type": "stream",
     "text": [
      "the price of nasi padang is 12.000 dollars\n"
     ]
    }
   ],
   "source": [
    "price = 12\n",
    "txt = f\"the price of nasi padang is {price:.3f} dollars\"\n",
    "print(txt)"
   ]
  },
  {
   "cell_type": "code",
   "execution_count": 136,
   "metadata": {},
   "outputs": [
    {
     "name": "stdout",
     "output_type": "stream",
     "text": [
      "the price of nasi padang is 13 dollars\n"
     ]
    }
   ],
   "source": [
    "\n",
    "txt = f\"the price of nasi padang is {13*1} dollars\"\n",
    "print(txt)"
   ]
  },
  {
   "cell_type": "code",
   "execution_count": 138,
   "metadata": {},
   "outputs": [
    {
     "name": "stdout",
     "output_type": "stream",
     "text": [
      "aku di panggil \"akbar\" oleh teman-teman\n"
     ]
    }
   ],
   "source": [
    "# escape character menggunakan \"\\\"\n",
    "txt = \"aku di panggil \\\"akbar\\\" oleh teman-teman\"\n",
    "print(txt)"
   ]
  }
 ],
 "metadata": {
  "kernelspec": {
   "display_name": "Python 3",
   "language": "python",
   "name": "python3"
  },
  "language_info": {
   "codemirror_mode": {
    "name": "ipython",
    "version": 3
   },
   "file_extension": ".py",
   "mimetype": "text/x-python",
   "name": "python",
   "nbconvert_exporter": "python",
   "pygments_lexer": "ipython3",
   "version": "3.13.0"
  }
 },
 "nbformat": 4,
 "nbformat_minor": 2
}
