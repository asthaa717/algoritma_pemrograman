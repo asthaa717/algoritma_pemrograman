{
 "cells": [
  {
   "cell_type": "code",
   "execution_count": 28,
   "metadata": {},
   "outputs": [],
   "source": [
    "import pandas as pd\n",
    "import numpy as np \n",
    "from scipy import stats\n"
   ]
  },
  {
   "cell_type": "code",
   "execution_count": 29,
   "metadata": {},
   "outputs": [
    {
     "name": "stdout",
     "output_type": "stream",
     "text": [
      "    nama  matematika  fisika  biologi\n",
      "0    ali          85      87       75\n",
      "1   budi          90      79       84\n",
      "2  citra          88      84       86\n",
      "3   dani          92      77       77\n",
      "4  elina          87      95       87\n"
     ]
    }
   ],
   "source": [
    "\n",
    "df = {\n",
    "    \"nama\" : ['ali', 'budi', 'citra', 'dani', 'elina'],\n",
    "    \"matematika\" : [85,90,88,92,87],\n",
    "    \"fisika\" : [87,79,84,77,95],\n",
    "    \"biologi\" : [75,84,86,77,87]\n",
    "}\n",
    "table = pd.DataFrame(df)\n",
    "print(table)"
   ]
  },
  {
   "cell_type": "markdown",
   "metadata": {},
   "source": [
    "### Statistik per-mata pelajaran"
   ]
  },
  {
   "cell_type": "code",
   "execution_count": 30,
   "metadata": {},
   "outputs": [
    {
     "name": "stdout",
     "output_type": "stream",
     "text": [
      "mean: 88.4\n",
      "median: 88.0\n",
      "mode: ModeResult(mode=np.int64(85), count=np.int64(1))\n",
      "variance: 5.839999999999999\n",
      "standart deviation: 2.416609194718914\n"
     ]
    }
   ],
   "source": [
    "matematika = np.array([85,90,88,92,87])\n",
    "\n",
    "mean = np.mean(matematika)\n",
    "median = np.median(matematika)\n",
    "mode = stats.mode(matematika)\n",
    "variance = np.var(matematika)\n",
    "std_dev = np.std(matematika)\n",
    "\n",
    "print(f'mean: {mean}')\n",
    "print(f'median: {median}')\n",
    "print(f'mode: {mode}')\n",
    "print(f'variance: {variance}')\n",
    "print(f'standart deviation: {std_dev}')"
   ]
  },
  {
   "cell_type": "code",
   "execution_count": 31,
   "metadata": {},
   "outputs": [
    {
     "name": "stdout",
     "output_type": "stream",
     "text": [
      "mean: 84.4\n",
      "median: 84.0\n",
      "mode: ModeResult(mode=np.int64(77), count=np.int64(1))\n",
      "variance: 40.64\n",
      "standart deviation: 6.374950980203691\n"
     ]
    }
   ],
   "source": [
    "fisika = np.array([87,79,84,77,95])\n",
    "\n",
    "mean = np.mean(fisika)\n",
    "median = np.median(fisika)\n",
    "mode = stats.mode(fisika)\n",
    "variance = np.var(fisika)\n",
    "std_dev = np.std(fisika)\n",
    "\n",
    "print(f'mean: {mean}')\n",
    "print(f'median: {median}')\n",
    "print(f'mode: {mode}')\n",
    "print(f'variance: {variance}')\n",
    "print(f'standart deviation: {std_dev}')"
   ]
  },
  {
   "cell_type": "code",
   "execution_count": 32,
   "metadata": {},
   "outputs": [
    {
     "name": "stdout",
     "output_type": "stream",
     "text": [
      "mean: 81.8\n",
      "median: 84.0\n",
      "mode: ModeResult(mode=np.int64(75), count=np.int64(1))\n",
      "variance: 23.76\n",
      "standart deviation: 4.874423042781577\n"
     ]
    }
   ],
   "source": [
    "biologi = np.array([75,84,86,77,87])\n",
    "\n",
    "mean = np.mean(biologi)\n",
    "median = np.median(biologi)\n",
    "mode = stats.mode(biologi)\n",
    "variance = np.var(biologi)\n",
    "std_dev = np.std(biologi)\n",
    "\n",
    "print(f'mean: {mean}')\n",
    "print(f'median: {median}')\n",
    "print(f'mode: {mode}')\n",
    "print(f'variance: {variance}')\n",
    "print(f'standart deviation: {std_dev}')"
   ]
  },
  {
   "cell_type": "markdown",
   "metadata": {},
   "source": [
    "### statistik per-siswa"
   ]
  },
  {
   "cell_type": "code",
   "execution_count": 33,
   "metadata": {},
   "outputs": [
    {
     "name": "stdout",
     "output_type": "stream",
     "text": [
      "mean: 82.33333333333333\n",
      "median: 85.0\n",
      "mode: ModeResult(mode=np.int64(75), count=np.int64(1))\n",
      "variance: 27.555555555555554\n",
      "standart deviation: 5.2493385826745405\n"
     ]
    }
   ],
   "source": [
    "Ali = np.array([85,87,75])\n",
    "\n",
    "mean = np.mean(Ali)\n",
    "median = np.median(Ali)\n",
    "mode = stats.mode(Ali)\n",
    "variance = np.var(Ali)\n",
    "std_dev = np.std(Ali)\n",
    "\n",
    "print(f'mean: {mean}')\n",
    "print(f'median: {median}')\n",
    "print(f'mode: {mode}')\n",
    "print(f'variance: {variance}')\n",
    "print(f'standart deviation: {std_dev}')"
   ]
  },
  {
   "cell_type": "code",
   "execution_count": 34,
   "metadata": {},
   "outputs": [
    {
     "name": "stdout",
     "output_type": "stream",
     "text": [
      "mean: 84.33333333333333\n",
      "median: 84.0\n",
      "mode: ModeResult(mode=np.int64(79), count=np.int64(1))\n",
      "variance: 20.22222222222222\n",
      "standart deviation: 4.496912521077347\n"
     ]
    }
   ],
   "source": [
    "Budi = np.array([90,79,84])\n",
    "\n",
    "mean = np.mean(Budi)\n",
    "median = np.median(Budi)\n",
    "mode = stats.mode(Budi)\n",
    "variance = np.var(Budi)\n",
    "std_dev = np.std(Budi)\n",
    "\n",
    "print(f'mean: {mean}')\n",
    "print(f'median: {median}')\n",
    "print(f'mode: {mode}')\n",
    "print(f'variance: {variance}')\n",
    "print(f'standart deviation: {std_dev}')"
   ]
  },
  {
   "cell_type": "code",
   "execution_count": 35,
   "metadata": {},
   "outputs": [
    {
     "name": "stdout",
     "output_type": "stream",
     "text": [
      "mean: 86.0\n",
      "median: 86.0\n",
      "mode: ModeResult(mode=np.int64(84), count=np.int64(1))\n",
      "variance: 2.6666666666666665\n",
      "standart deviation: 1.632993161855452\n"
     ]
    }
   ],
   "source": [
    "Citra = np.array([88,84,86])\n",
    "\n",
    "mean = np.mean(Citra)\n",
    "median = np.median(Citra)\n",
    "mode = stats.mode(Citra)\n",
    "variance = np.var(Citra)\n",
    "std_dev = np.std(Citra)\n",
    "\n",
    "print(f'mean: {mean}')\n",
    "print(f'median: {median}')\n",
    "print(f'mode: {mode}')\n",
    "print(f'variance: {variance}')\n",
    "print(f'standart deviation: {std_dev}')"
   ]
  },
  {
   "cell_type": "code",
   "execution_count": 36,
   "metadata": {},
   "outputs": [
    {
     "name": "stdout",
     "output_type": "stream",
     "text": [
      "mean: 82.0\n",
      "median: 77.0\n",
      "mode: ModeResult(mode=np.int64(77), count=np.int64(2))\n",
      "variance: 50.0\n",
      "standart deviation: 7.0710678118654755\n"
     ]
    }
   ],
   "source": [
    "Dani = np.array([92,77,77])\n",
    "\n",
    "mean = np.mean(Dani)\n",
    "median = np.median(Dani)\n",
    "mode = stats.mode(Dani)\n",
    "variance = np.var(Dani)\n",
    "std_dev = np.std(Dani)\n",
    "\n",
    "print(f'mean: {mean}')\n",
    "print(f'median: {median}')\n",
    "print(f'mode: {mode}')\n",
    "print(f'variance: {variance}')\n",
    "print(f'standart deviation: {std_dev}')"
   ]
  },
  {
   "cell_type": "code",
   "execution_count": 37,
   "metadata": {},
   "outputs": [
    {
     "name": "stdout",
     "output_type": "stream",
     "text": [
      "mean: 89.66666666666667\n",
      "median: 87.0\n",
      "mode: ModeResult(mode=np.int64(87), count=np.int64(2))\n",
      "variance: 14.222222222222221\n",
      "standart deviation: 3.7712361663282534\n"
     ]
    }
   ],
   "source": [
    "Elina = np.array([87,95,87])\n",
    "\n",
    "mean = np.mean(Elina)\n",
    "median = np.median(Elina)\n",
    "mode = stats.mode(Elina)\n",
    "variance = np.var(Elina)\n",
    "std_dev = np.std(Elina)\n",
    "\n",
    "print(f'mean: {mean}')\n",
    "print(f'median: {median}')\n",
    "print(f'mode: {mode}')\n",
    "print(f'variance: {variance}')\n",
    "print(f'standart deviation: {std_dev}')"
   ]
  }
 ],
 "metadata": {
  "kernelspec": {
   "display_name": "Python 3",
   "language": "python",
   "name": "python3"
  },
  "language_info": {
   "codemirror_mode": {
    "name": "ipython",
    "version": 3
   },
   "file_extension": ".py",
   "mimetype": "text/x-python",
   "name": "python",
   "nbconvert_exporter": "python",
   "pygments_lexer": "ipython3",
   "version": "3.13.0"
  }
 },
 "nbformat": 4,
 "nbformat_minor": 2
}
